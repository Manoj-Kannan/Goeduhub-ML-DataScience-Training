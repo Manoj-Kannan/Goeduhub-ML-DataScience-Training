{
 "cells": [
  {
   "cell_type": "markdown",
   "id": "f4b577c4",
   "metadata": {},
   "source": [
    "# Goeduhub Technologies - ML Training - Task 2\n",
    "## Registration ID: GO_STP_939 \n",
    "## Name: Manoj Kannan D"
   ]
  },
  {
   "cell_type": "markdown",
   "id": "8cfd3bcf",
   "metadata": {},
   "source": [
    "### 1) Is a list mutable?\n",
    "#### Ans : Yes, List in python is mutable"
   ]
  },
  {
   "cell_type": "code",
   "execution_count": 1,
   "id": "cb83f12a",
   "metadata": {},
   "outputs": [
    {
     "name": "stdout",
     "output_type": "stream",
     "text": [
      "['this', 'is', 'an', 'example', 'list']\n"
     ]
    }
   ],
   "source": [
    "lst = ['this','is','an','example',1234]\n",
    "lst[4] = 'list'\n",
    "print(lst)"
   ]
  },
  {
   "cell_type": "markdown",
   "id": "8e477378",
   "metadata": {},
   "source": [
    "### 2) Does a list need to be homogeneous?\n",
    "#### Ans: No, lists can be collection of different datatypes. "
   ]
  },
  {
   "cell_type": "code",
   "execution_count": 2,
   "id": "cf388fd6",
   "metadata": {},
   "outputs": [
    {
     "name": "stdout",
     "output_type": "stream",
     "text": [
      "['alpha', 'numeric', 100, 0.2]\n"
     ]
    }
   ],
   "source": [
    "lst = ['alpha','numeric',100,0.2]\n",
    "print(lst)"
   ]
  },
  {
   "cell_type": "markdown",
   "id": "2556edd7",
   "metadata": {},
   "source": [
    "### 3) What is the difference between a list and a tuple.\n",
    "#### Ans: Lists - Represented by [ ] and its mutable. Tuple - Represented by () and its immutable."
   ]
  },
  {
   "cell_type": "markdown",
   "id": "45b1c59f",
   "metadata": {},
   "source": [
    "### 4) How to find the number of elements in the list?\n",
    "#### Ans : The len() function returns the number of elements in a list."
   ]
  },
  {
   "cell_type": "code",
   "execution_count": 3,
   "id": "bd351a9d",
   "metadata": {},
   "outputs": [
    {
     "name": "stdout",
     "output_type": "stream",
     "text": [
      "5\n"
     ]
    }
   ],
   "source": [
    "lst = ['this','is','an','example',1234]\n",
    "print(len(lst))"
   ]
  },
  {
   "cell_type": "markdown",
   "id": "b6edcb77",
   "metadata": {},
   "source": [
    "### 5) How to check whether the list is empty or not?\n",
    "#### Ans: Using condition statement ( if len(list) == 0 ), if the condition is True, the list is empty."
   ]
  },
  {
   "cell_type": "code",
   "execution_count": 4,
   "id": "2aab991e",
   "metadata": {},
   "outputs": [
    {
     "name": "stdout",
     "output_type": "stream",
     "text": [
      "list has elements\n"
     ]
    }
   ],
   "source": [
    "lst = ['this','is','an','example',1234]\n",
    "if len(lst) == 0:\n",
    "    print('list is empty')\n",
    "else:\n",
    "    print('list has elements')"
   ]
  },
  {
   "cell_type": "markdown",
   "id": "bae77ccc",
   "metadata": {},
   "source": [
    "### 6) How to find the first and last element of the list?\n",
    "#### Ans: Elements in list can be accessed using index numbers. \n",
    "First element can be aaccessed using index - 0 and last element can be accessed using index - (len(list)-1) or using negative indexing."
   ]
  },
  {
   "cell_type": "code",
   "execution_count": 5,
   "id": "e6cf7c15",
   "metadata": {},
   "outputs": [
    {
     "name": "stdout",
     "output_type": "stream",
     "text": [
      "first element: 1\n",
      "last element: 6\n",
      "last element: 6\n"
     ]
    }
   ],
   "source": [
    "lst = [1,2,3,4,5,6]\n",
    "print('first element:',lst[0])\n",
    "print('last element:',lst[len(lst)-1])\n",
    "print('last element:',lst[-1])"
   ]
  },
  {
   "cell_type": "markdown",
   "id": "ecac171e",
   "metadata": {},
   "source": [
    "### 7) How to find the largest and lowest value in the list?\n",
    "#### Ans: Use max() and min() to find the maximum and minimum of a list."
   ]
  },
  {
   "cell_type": "code",
   "execution_count": 6,
   "id": "65013fef",
   "metadata": {},
   "outputs": [
    {
     "name": "stdout",
     "output_type": "stream",
     "text": [
      "minimum element: 1\n",
      "maximum element: 6\n"
     ]
    }
   ],
   "source": [
    "lst = [1,2,3,4,5,6]\n",
    "print('minimum element:',min(lst))\n",
    "print('maximum element:',max(lst))"
   ]
  },
  {
   "cell_type": "markdown",
   "id": "98c8b1cb",
   "metadata": {},
   "source": [
    "### 8) How to access elements of the list?\n",
    "#### Ans: Elements in list can be accessed using index numbers."
   ]
  },
  {
   "cell_type": "code",
   "execution_count": 7,
   "id": "07c13287",
   "metadata": {},
   "outputs": [
    {
     "name": "stdout",
     "output_type": "stream",
     "text": [
      "Access single element: 111\n",
      "Access multiple elements(using list slicing): [222, 333, 444]\n"
     ]
    }
   ],
   "source": [
    "lst = [111,222,333,444,555,666,777]\n",
    "print('Access single element:',lst[0])\n",
    "print('Access multiple elements(using list slicing):',lst[1:4])"
   ]
  },
  {
   "cell_type": "markdown",
   "id": "345e8ab4",
   "metadata": {},
   "source": [
    "### 9) Remove elements at a specific index\n",
    "#### Ans: Using pop function, we can remove elements at a specific index"
   ]
  },
  {
   "cell_type": "code",
   "execution_count": 8,
   "id": "724bcb40",
   "metadata": {},
   "outputs": [
    {
     "name": "stdout",
     "output_type": "stream",
     "text": [
      "[111, 222, 444, 555, 666, 777]\n"
     ]
    }
   ],
   "source": [
    "lst = [111,222,333,444,555,666,777]\n",
    "lst.pop(2)\n",
    "print(lst)"
   ]
  },
  {
   "cell_type": "markdown",
   "id": "e721cf58",
   "metadata": {},
   "source": [
    "### 10) Remove elements in a list between 2 indices\n",
    "#### Ans : To remove elements in a list between 2 indices can be done using 'del' keyword."
   ]
  },
  {
   "cell_type": "code",
   "execution_count": 9,
   "id": "16736c5b",
   "metadata": {},
   "outputs": [
    {
     "name": "stdout",
     "output_type": "stream",
     "text": [
      "[111, 222, 333, 444, 777]\n"
     ]
    }
   ],
   "source": [
    "lst = [111,222,333,444,555,666,777]\n",
    "del lst[4:6]\n",
    "print(lst)"
   ]
  },
  {
   "cell_type": "markdown",
   "id": "162a9545",
   "metadata": {},
   "source": [
    "### 11) Return every 2nd element in a list between 2 indices"
   ]
  },
  {
   "cell_type": "code",
   "execution_count": 10,
   "id": "42d241ac",
   "metadata": {},
   "outputs": [
    {
     "name": "stdout",
     "output_type": "stream",
     "text": [
      "[222, 444, 666]\n"
     ]
    }
   ],
   "source": [
    "lst = [111,222,333,444,555,666,777]\n",
    "print(lst[1:6:2])"
   ]
  },
  {
   "cell_type": "markdown",
   "id": "f0e06fc4",
   "metadata": {},
   "source": [
    "### 12) Get the first element from each nested list in a list"
   ]
  },
  {
   "cell_type": "code",
   "execution_count": 11,
   "id": "221f8b8e",
   "metadata": {},
   "outputs": [
    {
     "name": "stdout",
     "output_type": "stream",
     "text": [
      "1\n",
      "4\n"
     ]
    }
   ],
   "source": [
    "lst = [[1,2,3],[4,5,6]]\n",
    "for row in lst:\n",
    "    print(row[0])"
   ]
  },
  {
   "cell_type": "markdown",
   "id": "f1c3339b",
   "metadata": {},
   "source": [
    "### 13) How to modify elements of the list?\n",
    "#### Ans: Using assignment operator ('=')"
   ]
  },
  {
   "cell_type": "code",
   "execution_count": 12,
   "id": "f44e4308",
   "metadata": {},
   "outputs": [
    {
     "name": "stdout",
     "output_type": "stream",
     "text": [
      "['this', 'is', 'an', 'example', 'list']\n"
     ]
    }
   ],
   "source": [
    "lst = ['this','is','an','example',1234]\n",
    "lst[4] = 'list'\n",
    "print(lst)"
   ]
  },
  {
   "cell_type": "markdown",
   "id": "7af05c77",
   "metadata": {},
   "source": [
    "### 14) How to concatenate two lists?\n",
    "#### Ans : Two lists can be concatenated using the + operator."
   ]
  },
  {
   "cell_type": "code",
   "execution_count": 13,
   "id": "7238d6f6",
   "metadata": {},
   "outputs": [
    {
     "name": "stdout",
     "output_type": "stream",
     "text": [
      "[1, 2, 3, 4, 5, 6, 111, 222, 333, 444, 555, 666]\n"
     ]
    }
   ],
   "source": [
    "lst1 = [1,2,3,4,5,6]\n",
    "lst2 = [111,222,333,444,555,666]\n",
    "print(lst1 + lst2)"
   ]
  },
  {
   "cell_type": "markdown",
   "id": "86b73b47",
   "metadata": {},
   "source": [
    "### 15) How to add two lists element-wise in python?"
   ]
  },
  {
   "cell_type": "code",
   "execution_count": 14,
   "id": "2693a44f",
   "metadata": {},
   "outputs": [
    {
     "name": "stdout",
     "output_type": "stream",
     "text": [
      "[112, 224, 336, 448, 560, 672]\n"
     ]
    }
   ],
   "source": [
    "lst1 = [1,2,3,4,5,6]\n",
    "lst2 = [111,222,333,444,555,666]\n",
    "sum_list = []\n",
    "for i in range(len(lst1)):\n",
    "    sum_list.append(lst1[i]+lst2[i])\n",
    "print(sum_list)"
   ]
  },
  {
   "cell_type": "markdown",
   "id": "cfbfae88",
   "metadata": {},
   "source": [
    "### 16) Difference between del and clear?\n",
    "#### Ans : clear - delete only the contents of a list. del - deletes the complete list from the memory"
   ]
  },
  {
   "cell_type": "code",
   "execution_count": 15,
   "id": "791a11b5",
   "metadata": {},
   "outputs": [
    {
     "name": "stdout",
     "output_type": "stream",
     "text": [
      "list after clearing: []\n"
     ]
    },
    {
     "ename": "NameError",
     "evalue": "name 'lst' is not defined",
     "output_type": "error",
     "traceback": [
      "\u001b[1;31m---------------------------------------------------------------------------\u001b[0m",
      "\u001b[1;31mNameError\u001b[0m                                 Traceback (most recent call last)",
      "\u001b[1;32m<ipython-input-15-6324bbf32dfd>\u001b[0m in \u001b[0;36m<module>\u001b[1;34m\u001b[0m\n\u001b[0;32m      5\u001b[0m \u001b[0mlst\u001b[0m \u001b[1;33m=\u001b[0m \u001b[1;33m[\u001b[0m\u001b[1;36m1\u001b[0m\u001b[1;33m,\u001b[0m\u001b[1;36m2\u001b[0m\u001b[1;33m,\u001b[0m\u001b[1;36m3\u001b[0m\u001b[1;33m,\u001b[0m\u001b[1;36m4\u001b[0m\u001b[1;33m,\u001b[0m\u001b[1;36m5\u001b[0m\u001b[1;33m,\u001b[0m\u001b[1;36m6\u001b[0m\u001b[1;33m]\u001b[0m\u001b[1;33m\u001b[0m\u001b[1;33m\u001b[0m\u001b[0m\n\u001b[0;32m      6\u001b[0m \u001b[1;32mdel\u001b[0m \u001b[0mlst\u001b[0m\u001b[1;33m\u001b[0m\u001b[1;33m\u001b[0m\u001b[0m\n\u001b[1;32m----> 7\u001b[1;33m \u001b[0mprint\u001b[0m\u001b[1;33m(\u001b[0m\u001b[0mlst\u001b[0m\u001b[1;33m)\u001b[0m \u001b[1;31m# error: name 'lst' is not defined\u001b[0m\u001b[1;33m\u001b[0m\u001b[1;33m\u001b[0m\u001b[0m\n\u001b[0m",
      "\u001b[1;31mNameError\u001b[0m: name 'lst' is not defined"
     ]
    }
   ],
   "source": [
    "lst = [1,2,3,4,5,6]\n",
    "lst.clear()\n",
    "print('list after clearing:',lst)\n",
    "\n",
    "lst = [1,2,3,4,5,6]\n",
    "del lst\n",
    "print(lst) # error: name 'lst' is not defined"
   ]
  },
  {
   "cell_type": "markdown",
   "id": "ea7611bd",
   "metadata": {},
   "source": [
    "### 17 ) Difference between remove and pop?\n",
    "#### Ans : Both are used to remove elements from the list. \n",
    "#### remove() requires the element an argument whereas pop() requires the index of the element as argument."
   ]
  },
  {
   "cell_type": "code",
   "execution_count": 16,
   "id": "b78306a6",
   "metadata": {},
   "outputs": [
    {
     "name": "stdout",
     "output_type": "stream",
     "text": [
      "[1, 2, 4, 5, 6]\n",
      "[1, 3, 4, 5, 6]\n"
     ]
    }
   ],
   "source": [
    "lst = [1,2,3,4,5,6]\n",
    "lst.pop(2) # removes element at index 2\n",
    "print(lst)\n",
    "\n",
    "lst = [1,2,3,4,5,6]\n",
    "lst.remove(2) # removes element 2\n",
    "print(lst)"
   ]
  },
  {
   "cell_type": "markdown",
   "id": "2523dbdc",
   "metadata": {},
   "source": [
    "### 18) Difference between append and extend?\n",
    "#### Ans: append() adds a single element to the end of the list, but extend() can add multiple elements to the end of the list."
   ]
  },
  {
   "cell_type": "code",
   "execution_count": 17,
   "id": "4f6edaa4",
   "metadata": {},
   "outputs": [
    {
     "name": "stdout",
     "output_type": "stream",
     "text": [
      "[1, 2, 3, 4, 5, 6, 7]\n",
      "[1, 2, 3, 4, 5, 6, 7, 8, 9, 10]\n"
     ]
    }
   ],
   "source": [
    "lst = [1,2,3,4,5,6]\n",
    "lst.append(7)\n",
    "print(lst)\n",
    "\n",
    "lst = [1,2,3,4,5,6]\n",
    "lst.extend([7,8,9,10])\n",
    "print(lst)"
   ]
  },
  {
   "cell_type": "markdown",
   "id": "d9cbbb7a",
   "metadata": {},
   "source": [
    "### 19) Difference between Indexing and Slicing?\n",
    "#### Ans: Indexing is used to obtain individual elements using index number while Slicing is used to obtain a sequence of elements using corresponding index numbers."
   ]
  },
  {
   "cell_type": "code",
   "execution_count": 18,
   "id": "9f08e276",
   "metadata": {},
   "outputs": [
    {
     "name": "stdout",
     "output_type": "stream",
     "text": [
      "Access single element: 111\n",
      "Access multiple elements: [222, 333, 444]\n"
     ]
    }
   ],
   "source": [
    "lst = [111,222,333,444,555,666,777]\n",
    "print('Access single element:',lst[0]) #Indexing\n",
    "print('Access multiple elements:',lst[1:4]) #Slicing"
   ]
  },
  {
   "cell_type": "markdown",
   "id": "dcb8319e",
   "metadata": {},
   "source": [
    "### 20) Difference between sort and sorted?\n",
    "#### Ans: sort - sorts the actual list (inplace). sorted - sorts a copy of list (not inplace)"
   ]
  },
  {
   "cell_type": "code",
   "execution_count": 19,
   "id": "ec29deac",
   "metadata": {},
   "outputs": [
    {
     "name": "stdout",
     "output_type": "stream",
     "text": [
      "[1, 2, 4, 4, 7, 9]\n",
      "list has no changes [4, 1, 7, 4, 9, 2]\n",
      "list is modified [1, 2, 4, 4, 7, 9]\n"
     ]
    }
   ],
   "source": [
    "#using sorted\n",
    "lst = [4,1,7,4,9,2]\n",
    "print(sorted(lst))\n",
    "print('list has no changes', lst)\n",
    "\n",
    "#using sort()\n",
    "lst = [4,1,7,4,9,2]\n",
    "lst.sort()\n",
    "print('list is modified',lst)"
   ]
  },
  {
   "cell_type": "markdown",
   "id": "e257a1e3",
   "metadata": {},
   "source": [
    "### 21) Difference between reverse and reversed?"
   ]
  },
  {
   "cell_type": "code",
   "execution_count": 20,
   "id": "45b60716",
   "metadata": {},
   "outputs": [
    {
     "name": "stdout",
     "output_type": "stream",
     "text": [
      "[6, 5, 4, 3, 2, 1]\n",
      "[6, 5, 4, 3, 2, 1]\n"
     ]
    }
   ],
   "source": [
    "# using reversed\n",
    "# reversed() function returns the reversed list, So it has to assigned to a variable.\n",
    "# reversed() does not modify actual list.\n",
    "lst = [1,2,3,4,5,6]\n",
    "new = list(reversed(lst))\n",
    "print(new)\n",
    "\n",
    "# using reverse\n",
    "# reverse() method does not return any value, but modifies the actual list\n",
    "lst = [1,2,3,4,5,6]\n",
    "lst.reverse()\n",
    "print(lst)"
   ]
  },
  {
   "cell_type": "markdown",
   "id": "e383decb",
   "metadata": {},
   "source": [
    "### 22) Difference between copy and deepcopy?\n",
    "#### ANS: copy() - constructs a new compound object and any changes made to a copy of object do reflect in the original object.\n",
    "#### deepcopy() - constructs a new compound object and any changes made to a copy of object do not reflect in the original object."
   ]
  },
  {
   "cell_type": "code",
   "execution_count": 21,
   "id": "3ad2ea59",
   "metadata": {},
   "outputs": [
    {
     "name": "stdout",
     "output_type": "stream",
     "text": [
      "Actual list: [['AA', 1, 1], [2, 2, 2], [3, 3, 3]]\n",
      "Copy list [['AA', 1, 1], [2, 2, 2], [3, 3, 3]]\n",
      "False\n",
      "True\n"
     ]
    }
   ],
   "source": [
    "import copy\n",
    "act_list = [[1, 1, 1], [2, 2, 2], [3, 3, 3]]\n",
    "copy_list = copy.copy(act_list)\n",
    "\n",
    "act_list[0][0] = 'AA' # updation of elements occur in both lists\n",
    "\n",
    "print('Actual list:', act_list)\n",
    "print('Copy list', copy_list)\n",
    "\n",
    "# both share different memory\n",
    "print(id(act_list)==id(copy_list))\n",
    "\n",
    "# but if the list elements are same, they share same memory.\n",
    "# on updation of new values to list elements, then elements share different memory\n",
    "print(id(act_list[0])==id(copy_list[0]))"
   ]
  },
  {
   "cell_type": "code",
   "execution_count": 22,
   "id": "ba3a2574",
   "metadata": {},
   "outputs": [
    {
     "name": "stdout",
     "output_type": "stream",
     "text": [
      "Actual list: [['AA', 1, 1], [2, 2, 2], [3, 3, 3]]\n",
      "Copy list [[1, 1, 1], [2, 2, 2], [3, 3, 3]]\n",
      "False\n",
      "False\n"
     ]
    }
   ],
   "source": [
    "import copy\n",
    "act_list = [[1, 1, 1], [2, 2, 2], [3, 3, 3]]\n",
    "copy_list = copy.deepcopy(act_list)\n",
    "\n",
    "act_list[0][0] = 'AA' # lists are independent, so no updation on deepcopy\n",
    "\n",
    "print('Actual list:', act_list)\n",
    "print('Copy list', copy_list)\n",
    "\n",
    "# both share different memory\n",
    "print(id(act_list)==id(copy_list))\n",
    "\n",
    "# but if the list elements are same, they share same memory.\n",
    "# on updation of new values to list elements, then elements share different memory\n",
    "print(id(act_list[0])==id(copy_list[0]))"
   ]
  },
  {
   "cell_type": "markdown",
   "id": "5074871b",
   "metadata": {},
   "source": [
    "### 23) How to remove duplicate elements in the list?\n",
    "#### Ans : Duplicate items can be removed in the list by using set() function."
   ]
  },
  {
   "cell_type": "code",
   "execution_count": 23,
   "id": "0775d355",
   "metadata": {},
   "outputs": [
    {
     "name": "stdout",
     "output_type": "stream",
     "text": [
      "list without duplicates: [1, 2, 3, 4, 5, 6]\n"
     ]
    }
   ],
   "source": [
    "lst = [1,1,4,5,6,2,2,2,3,4,5,6]\n",
    "new = list(set(lst))\n",
    "print('list without duplicates:',new)"
   ]
  },
  {
   "cell_type": "markdown",
   "id": "0bc4aade",
   "metadata": {},
   "source": [
    "### 24) How to find an index of an element in the python list?\n",
    "#### Ans : index() function is used to find an index of an element in lists."
   ]
  },
  {
   "cell_type": "code",
   "execution_count": 24,
   "id": "04780c2c",
   "metadata": {},
   "outputs": [
    {
     "name": "stdout",
     "output_type": "stream",
     "text": [
      "index of element 3 is 5\n"
     ]
    }
   ],
   "source": [
    "lst = [1,10,22,33,2,3,66,99,4,5,6]\n",
    "print('index of element 3 is',lst.index(3))"
   ]
  },
  {
   "cell_type": "markdown",
   "id": "1d86f5e9",
   "metadata": {},
   "source": [
    "### 25) How to find the occurrences of an element in the python list?\n",
    "#### Ans : count() function can be used to find the number of occurrences of an element in the list."
   ]
  },
  {
   "cell_type": "code",
   "execution_count": 25,
   "id": "9bab5f16",
   "metadata": {},
   "outputs": [
    {
     "name": "stdout",
     "output_type": "stream",
     "text": [
      "No. of occurances of element 2 is 3\n"
     ]
    }
   ],
   "source": [
    "lst = [1,1,4,5,6,2,2,2,3,4,5,6]\n",
    "print('No. of occurances of element 2 is', lst.count(2))"
   ]
  },
  {
   "cell_type": "markdown",
   "id": "01b28f02",
   "metadata": {},
   "source": [
    "### 26) How to insert an item at a given position?\n",
    "#### Ans : insert() function is used to insert an item at a given position.\n",
    "**Syntax: list.insert(index,element)**"
   ]
  },
  {
   "cell_type": "code",
   "execution_count": 26,
   "id": "dc307cb5",
   "metadata": {},
   "outputs": [
    {
     "name": "stdout",
     "output_type": "stream",
     "text": [
      "[999, 1, 2, 3, 4, 5, 6]\n"
     ]
    }
   ],
   "source": [
    "lst = [1,2,3,4,5,6]\n",
    "lst.insert(0,999)\n",
    "print(lst)"
   ]
  },
  {
   "cell_type": "markdown",
   "id": "2124faec",
   "metadata": {},
   "source": [
    "### 27) How to check if an item is in the list?\n",
    "#### Ans: Conditional statement if can be used"
   ]
  },
  {
   "cell_type": "code",
   "execution_count": 27,
   "id": "e99a9288",
   "metadata": {},
   "outputs": [
    {
     "name": "stdout",
     "output_type": "stream",
     "text": [
      "5 is present in the List\n"
     ]
    }
   ],
   "source": [
    "lst = [1,2,3,4,5,6]\n",
    "if 5 in lst:\n",
    "    print('5 is present in the List')\n",
    "else:\n",
    "    print('5 is not present in the List')"
   ]
  },
  {
   "cell_type": "markdown",
   "id": "50820748",
   "metadata": {},
   "source": [
    "### 28) How to flatten a list in python?"
   ]
  },
  {
   "cell_type": "code",
   "execution_count": 28,
   "id": "b59d700e",
   "metadata": {},
   "outputs": [
    {
     "name": "stdout",
     "output_type": "stream",
     "text": [
      "[1, 1, 1, 2, 2, 2, 3, 3, 3]\n"
     ]
    }
   ],
   "source": [
    "lst = [[1, 1, 1], [2, 2, 2], [3, 3, 3]]\n",
    "flatten = []\n",
    "for row in lst:\n",
    "    for i in row:\n",
    "        flatten.append(i)\n",
    "print(flatten)"
   ]
  },
  {
   "cell_type": "markdown",
   "id": "455d7508",
   "metadata": {},
   "source": [
    "### 29) How to convert python list to other data structures like set, tuple, dictionary"
   ]
  },
  {
   "cell_type": "code",
   "execution_count": 29,
   "id": "485c52f1",
   "metadata": {},
   "outputs": [
    {
     "name": "stdout",
     "output_type": "stream",
     "text": [
      "<class 'set'>\n",
      "<class 'tuple'>\n",
      "<class 'dict'>\n"
     ]
    }
   ],
   "source": [
    "lst = [1,2,3,4,5,6]\n",
    "lst_set = set(lst)\n",
    "print(type(lst_set))\n",
    "\n",
    "lst_tup = tuple(lst)\n",
    "print(type(lst_tup))\n",
    "\n",
    "lst_dict = {'list_values' : lst}\n",
    "print(type(lst_dict))"
   ]
  },
  {
   "cell_type": "markdown",
   "id": "c744fd77",
   "metadata": {},
   "source": [
    "### 30) How to apply a function to all items in the list?\n",
    "#### Ans: Using map() function"
   ]
  },
  {
   "cell_type": "code",
   "execution_count": 30,
   "id": "04d15a59",
   "metadata": {},
   "outputs": [
    {
     "name": "stdout",
     "output_type": "stream",
     "text": [
      "[1, 2, 3, 4, 5, 6]\n",
      "[1, 4, 9, 16, 25, 36]\n"
     ]
    }
   ],
   "source": [
    "lst = [1,2,3,4,5,6]\n",
    "new = list(map(lambda x:x**2,lst)) # create new list with square of each element in lst\n",
    "print(lst)\n",
    "print(new)"
   ]
  },
  {
   "cell_type": "markdown",
   "id": "096d95e5",
   "metadata": {},
   "source": [
    "### 31) How to filter the elements based on a function in a python list?\n",
    "#### Ans: Using filter() function"
   ]
  },
  {
   "cell_type": "code",
   "execution_count": 31,
   "id": "eff478f2",
   "metadata": {},
   "outputs": [
    {
     "name": "stdout",
     "output_type": "stream",
     "text": [
      "[1, 2, 3, 4, 5, 6]\n",
      "[3, 4, 5, 6]\n"
     ]
    }
   ],
   "source": [
    "lst = [1,2,3,4,5,6]\n",
    "new = list(filter(lambda x: x>2,lst)) # returns new list for elements >2 in lst\n",
    "print(lst)\n",
    "print(new)"
   ]
  },
  {
   "cell_type": "markdown",
   "id": "1ff17097",
   "metadata": {},
   "source": [
    "### 32) How python lists are stored in memory?\n",
    "#### Ans: The list object consists of two internal parts; one for object header (first element), and one separately allocated array of object references."
   ]
  },
  {
   "cell_type": "code",
   "execution_count": null,
   "id": "409cb951",
   "metadata": {},
   "outputs": [],
   "source": []
  }
 ],
 "metadata": {
  "kernelspec": {
   "display_name": "Python 3",
   "language": "python",
   "name": "python3"
  },
  "language_info": {
   "codemirror_mode": {
    "name": "ipython",
    "version": 3
   },
   "file_extension": ".py",
   "mimetype": "text/x-python",
   "name": "python",
   "nbconvert_exporter": "python",
   "pygments_lexer": "ipython3",
   "version": "3.8.8"
  }
 },
 "nbformat": 4,
 "nbformat_minor": 5
}
