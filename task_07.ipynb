{
 "cells": [
  {
   "cell_type": "markdown",
   "id": "f8e5ce9b",
   "metadata": {},
   "source": [
    "# Goeduhub Technologies - ML Training - Task 7\n",
    "## Registration ID: GO_STP_939 \n",
    "## Name: Manoj Kannan D\n",
    "#### ----------------------------------------------------------------------------------------------------------------------------------------------------------------------------------------------\n",
    "\n",
    "## Question: Prediction using Supervised Machine Learning using Simple Linear Regression\n",
    "### In this task we have to find the students scores based on their study hours. This is a simple Regression problem type because it has only two variables. "
   ]
  },
  {
   "cell_type": "code",
   "execution_count": 1,
   "id": "402bea64",
   "metadata": {},
   "outputs": [],
   "source": [
    "import numpy as np\n",
    "import pandas as pd\n",
    "import matplotlib.pyplot as plt\n",
    "%matplotlib inline"
   ]
  },
  {
   "cell_type": "markdown",
   "id": "b9f516d3",
   "metadata": {},
   "source": [
    "### Load Dataset"
   ]
  },
  {
   "cell_type": "code",
   "execution_count": 2,
   "id": "0adec5ab",
   "metadata": {},
   "outputs": [
    {
     "data": {
      "text/html": [
       "<div>\n",
       "<style scoped>\n",
       "    .dataframe tbody tr th:only-of-type {\n",
       "        vertical-align: middle;\n",
       "    }\n",
       "\n",
       "    .dataframe tbody tr th {\n",
       "        vertical-align: top;\n",
       "    }\n",
       "\n",
       "    .dataframe thead th {\n",
       "        text-align: right;\n",
       "    }\n",
       "</style>\n",
       "<table border=\"1\" class=\"dataframe\">\n",
       "  <thead>\n",
       "    <tr style=\"text-align: right;\">\n",
       "      <th></th>\n",
       "      <th>Hours</th>\n",
       "      <th>Scores</th>\n",
       "    </tr>\n",
       "  </thead>\n",
       "  <tbody>\n",
       "    <tr>\n",
       "      <th>0</th>\n",
       "      <td>7.7</td>\n",
       "      <td>79</td>\n",
       "    </tr>\n",
       "    <tr>\n",
       "      <th>1</th>\n",
       "      <td>5.9</td>\n",
       "      <td>60</td>\n",
       "    </tr>\n",
       "    <tr>\n",
       "      <th>2</th>\n",
       "      <td>4.5</td>\n",
       "      <td>45</td>\n",
       "    </tr>\n",
       "    <tr>\n",
       "      <th>3</th>\n",
       "      <td>3.3</td>\n",
       "      <td>33</td>\n",
       "    </tr>\n",
       "    <tr>\n",
       "      <th>4</th>\n",
       "      <td>1.1</td>\n",
       "      <td>12</td>\n",
       "    </tr>\n",
       "  </tbody>\n",
       "</table>\n",
       "</div>"
      ],
      "text/plain": [
       "   Hours  Scores\n",
       "0    7.7      79\n",
       "1    5.9      60\n",
       "2    4.5      45\n",
       "3    3.3      33\n",
       "4    1.1      12"
      ]
     },
     "execution_count": 2,
     "metadata": {},
     "output_type": "execute_result"
    }
   ],
   "source": [
    "df = pd.read_csv('Datasets/StudentHoursScores.csv')\n",
    "df.head()"
   ]
  },
  {
   "cell_type": "markdown",
   "id": "e0ef1858",
   "metadata": {},
   "source": [
    "### Exploring Dataset"
   ]
  },
  {
   "cell_type": "code",
   "execution_count": 3,
   "id": "598dbcc0",
   "metadata": {},
   "outputs": [
    {
     "data": {
      "text/plain": [
       "2"
      ]
     },
     "execution_count": 3,
     "metadata": {},
     "output_type": "execute_result"
    }
   ],
   "source": [
    "# dimensions of the dataset\n",
    "df.ndim"
   ]
  },
  {
   "cell_type": "code",
   "execution_count": 4,
   "id": "c8f7938d",
   "metadata": {},
   "outputs": [
    {
     "data": {
      "text/plain": [
       "(23, 2)"
      ]
     },
     "execution_count": 4,
     "metadata": {},
     "output_type": "execute_result"
    }
   ],
   "source": [
    "# shape of the dataset\n",
    "df.shape"
   ]
  },
  {
   "cell_type": "code",
   "execution_count": 5,
   "id": "761575b4",
   "metadata": {},
   "outputs": [
    {
     "data": {
      "text/plain": [
       "46"
      ]
     },
     "execution_count": 5,
     "metadata": {},
     "output_type": "execute_result"
    }
   ],
   "source": [
    "# size of the dataset (total umber of elements)\n",
    "df.size"
   ]
  },
  {
   "cell_type": "code",
   "execution_count": 6,
   "id": "154bc36f",
   "metadata": {},
   "outputs": [
    {
     "data": {
      "text/plain": [
       "Index(['Hours', 'Scores'], dtype='object')"
      ]
     },
     "execution_count": 6,
     "metadata": {},
     "output_type": "execute_result"
    }
   ],
   "source": [
    "# columns present in our dataset\n",
    "df.columns"
   ]
  },
  {
   "cell_type": "code",
   "execution_count": 7,
   "id": "9415f469",
   "metadata": {},
   "outputs": [
    {
     "data": {
      "text/plain": [
       "Hours     float64\n",
       "Scores      int64\n",
       "dtype: object"
      ]
     },
     "execution_count": 7,
     "metadata": {},
     "output_type": "execute_result"
    }
   ],
   "source": [
    "# datatypes of the each column\n",
    "df.dtypes"
   ]
  },
  {
   "cell_type": "code",
   "execution_count": 8,
   "id": "6006fdb2",
   "metadata": {},
   "outputs": [
    {
     "name": "stdout",
     "output_type": "stream",
     "text": [
      "<class 'pandas.core.frame.DataFrame'>\n",
      "RangeIndex: 23 entries, 0 to 22\n",
      "Data columns (total 2 columns):\n",
      " #   Column  Non-Null Count  Dtype  \n",
      "---  ------  --------------  -----  \n",
      " 0   Hours   23 non-null     float64\n",
      " 1   Scores  23 non-null     int64  \n",
      "dtypes: float64(1), int64(1)\n",
      "memory usage: 496.0 bytes\n"
     ]
    }
   ],
   "source": [
    "# Print a concise summary of a DataFrame\n",
    "df.info()"
   ]
  },
  {
   "cell_type": "code",
   "execution_count": 9,
   "id": "7cbfceb8",
   "metadata": {},
   "outputs": [
    {
     "data": {
      "text/html": [
       "<div>\n",
       "<style scoped>\n",
       "    .dataframe tbody tr th:only-of-type {\n",
       "        vertical-align: middle;\n",
       "    }\n",
       "\n",
       "    .dataframe tbody tr th {\n",
       "        vertical-align: top;\n",
       "    }\n",
       "\n",
       "    .dataframe thead th {\n",
       "        text-align: right;\n",
       "    }\n",
       "</style>\n",
       "<table border=\"1\" class=\"dataframe\">\n",
       "  <thead>\n",
       "    <tr style=\"text-align: right;\">\n",
       "      <th></th>\n",
       "      <th>Hours</th>\n",
       "      <th>Scores</th>\n",
       "    </tr>\n",
       "  </thead>\n",
       "  <tbody>\n",
       "    <tr>\n",
       "      <th>count</th>\n",
       "      <td>23.000000</td>\n",
       "      <td>23.000000</td>\n",
       "    </tr>\n",
       "    <tr>\n",
       "      <th>mean</th>\n",
       "      <td>4.817391</td>\n",
       "      <td>47.695652</td>\n",
       "    </tr>\n",
       "    <tr>\n",
       "      <th>std</th>\n",
       "      <td>2.709688</td>\n",
       "      <td>27.103228</td>\n",
       "    </tr>\n",
       "    <tr>\n",
       "      <th>min</th>\n",
       "      <td>1.100000</td>\n",
       "      <td>12.000000</td>\n",
       "    </tr>\n",
       "    <tr>\n",
       "      <th>25%</th>\n",
       "      <td>2.650000</td>\n",
       "      <td>27.000000</td>\n",
       "    </tr>\n",
       "    <tr>\n",
       "      <th>50%</th>\n",
       "      <td>4.100000</td>\n",
       "      <td>40.000000</td>\n",
       "    </tr>\n",
       "    <tr>\n",
       "      <th>75%</th>\n",
       "      <td>7.100000</td>\n",
       "      <td>72.500000</td>\n",
       "    </tr>\n",
       "    <tr>\n",
       "      <th>max</th>\n",
       "      <td>9.600000</td>\n",
       "      <td>96.000000</td>\n",
       "    </tr>\n",
       "  </tbody>\n",
       "</table>\n",
       "</div>"
      ],
      "text/plain": [
       "           Hours     Scores\n",
       "count  23.000000  23.000000\n",
       "mean    4.817391  47.695652\n",
       "std     2.709688  27.103228\n",
       "min     1.100000  12.000000\n",
       "25%     2.650000  27.000000\n",
       "50%     4.100000  40.000000\n",
       "75%     7.100000  72.500000\n",
       "max     9.600000  96.000000"
      ]
     },
     "execution_count": 9,
     "metadata": {},
     "output_type": "execute_result"
    }
   ],
   "source": [
    "# provides statistical analysis only in numerrical columns\n",
    "df.describe()"
   ]
  },
  {
   "cell_type": "code",
   "execution_count": 10,
   "id": "6d272462",
   "metadata": {},
   "outputs": [
    {
     "data": {
      "text/plain": [
       "Hours     0\n",
       "Scores    0\n",
       "dtype: int64"
      ]
     },
     "execution_count": 10,
     "metadata": {},
     "output_type": "execute_result"
    }
   ],
   "source": [
    "# check for null elements\n",
    "df.isna().sum()"
   ]
  },
  {
   "cell_type": "markdown",
   "id": "b431d5c9",
   "metadata": {},
   "source": [
    "### Visualizing Input Data"
   ]
  },
  {
   "cell_type": "code",
   "execution_count": 11,
   "id": "78b07430",
   "metadata": {},
   "outputs": [
    {
     "data": {
      "text/plain": [
       "Text(0, 0.5, 'No. of Students')"
      ]
     },
     "execution_count": 11,
     "metadata": {},
     "output_type": "execute_result"
    },
    {
     "data": {
      "image/png": "[encoded data removed]",
      "text/plain": [
       "<Figure size 1080x360 with 2 Axes>"
      ]
     },
     "metadata": {
      "needs_background": "light"
     },
     "output_type": "display_data"
    }
   ],
   "source": [
    "fig1 = plt.figure(figsize=(15,5))\n",
    "\n",
    "ax1 = fig1.add_subplot(1,2,1)\n",
    "ax2 = fig1.add_subplot(1,2,2)\n",
    "\n",
    "ax1.scatter(df['Hours'],df['Scores'])\n",
    "ax1.set_title('Students Study Hours vs Scores')\n",
    "ax1.set_xlabel('Study Hours')\n",
    "ax1.set_ylabel('Scores')\n",
    "\n",
    "ax2.hist(df['Scores'],bins=[0,20,40,60,80,100],color= 'lightgreen',edgecolor='g')\n",
    "ax2.set_title('Scores Distribution')\n",
    "ax2.set_xlabel('Scores')\n",
    "ax2.set_ylabel('No. of Students')"
   ]
  },
  {
   "cell_type": "markdown",
   "id": "9b0e0faf",
   "metadata": {},
   "source": [
    "## Inference:\n",
    "**Thus, we may find that there is a linear relatioship between Study hours and Marks. <br>\n",
    "ie., as the study hour increases, the marks scored by the students also increases.**\n",
    "### So, lets train the model using SKLearn LinearRegression(), to find the line of best fit and to make predictions."
   ]
  },
  {
   "cell_type": "markdown",
   "id": "3dd127ed",
   "metadata": {},
   "source": [
    "### Preprocessing Data\n",
    "#### Train-Test Split:\n",
    "__The approach we are going to use here is to split available data in two sets.__\n",
    "\n",
    "    1.Training: We will train our model on a subset of dataset\n",
    "    2.Testing : We will test our model using another subset of the dataset to make actual predictions using trained model"
   ]
  },
  {
   "cell_type": "code",
   "execution_count": 12,
   "id": "302badce",
   "metadata": {},
   "outputs": [
    {
     "name": "stdout",
     "output_type": "stream",
     "text": [
      "X_train shape - (17, 1)\n",
      "X_test shape - (6, 1)\n"
     ]
    }
   ],
   "source": [
    "# Independent variaables - df['Hours']\n",
    "# Dependent variaables - df['Scores']\n",
    "\n",
    "X = df[['Hours']]\n",
    "y = df['Scores']\n",
    "\n",
    "#train_test_split\n",
    "from sklearn.model_selection import train_test_split\n",
    "X_train, X_test, y_train, y_test = train_test_split(X,y,test_size=0.25,random_state=10)\n",
    "# random_state is set for reproduciblity of same results\n",
    "\n",
    "print('X_train shape -',X_train.shape)\n",
    "print('X_test shape -',X_test.shape)"
   ]
  },
  {
   "cell_type": "markdown",
   "id": "148dbe08",
   "metadata": {},
   "source": [
    "## Build Linear Regression Model"
   ]
  },
  {
   "cell_type": "code",
   "execution_count": 13,
   "id": "9957508e",
   "metadata": {},
   "outputs": [
    {
     "data": {
      "text/plain": [
       "LinearRegression()"
      ]
     },
     "execution_count": 13,
     "metadata": {},
     "output_type": "execute_result"
    }
   ],
   "source": [
    "#create an instance of regression model and fit the input data\n",
    "from sklearn import linear_model\n",
    "reg = linear_model.LinearRegression()\n",
    "reg.fit(X_train,y_train)"
   ]
  },
  {
   "cell_type": "code",
   "execution_count": 14,
   "id": "41bea082",
   "metadata": {},
   "outputs": [
    {
     "name": "stdout",
     "output_type": "stream",
     "text": [
      "[10.16298343]\n",
      "-1.05055248618784\n"
     ]
    }
   ],
   "source": [
    "# Simple linear Regression works based on the mathematical equation y = mx + c\n",
    "print(reg.coef_)            # value m\n",
    "print(reg.intercept_)       # value c "
   ]
  },
  {
   "cell_type": "code",
   "execution_count": 15,
   "id": "8d213351",
   "metadata": {},
   "outputs": [
    {
     "data": {
      "text/plain": [
       "array([89.4       , 58.91104972, 18.25911602, 44.68287293, 92.44889503,\n",
       "       14.19392265])"
      ]
     },
     "execution_count": 15,
     "metadata": {},
     "output_type": "execute_result"
    }
   ],
   "source": [
    "# prediction on test set\n",
    "y_pred = reg.predict(X_test)\n",
    "y_pred"
   ]
  },
  {
   "cell_type": "code",
   "execution_count": 16,
   "id": "c13ca2a4",
   "metadata": {},
   "outputs": [
    {
     "data": {
      "text/plain": [
       "array([39.60138122])"
      ]
     },
     "execution_count": 16,
     "metadata": {},
     "output_type": "execute_result"
    }
   ],
   "source": [
    "# Out of sample Prediction\n",
    "reg.predict([[4]])"
   ]
  },
  {
   "cell_type": "markdown",
   "id": "b058df7b",
   "metadata": {},
   "source": [
    "### Accuracy"
   ]
  },
  {
   "cell_type": "code",
   "execution_count": 17,
   "id": "349bf6a8",
   "metadata": {},
   "outputs": [
    {
     "name": "stdout",
     "output_type": "stream",
     "text": [
      "Training accuracy: 0.9949447078760035\n",
      "Testing accuracy: 0.9946919974876405\n"
     ]
    }
   ],
   "source": [
    "print('Training accuracy:',reg.score(X_train,y_train))\n",
    "print('Testing accuracy:',reg.score(X_test,y_test))"
   ]
  },
  {
   "cell_type": "markdown",
   "id": "a5fc9f6d",
   "metadata": {},
   "source": [
    "### Visualizing the line of best-fit"
   ]
  },
  {
   "cell_type": "code",
   "execution_count": 18,
   "id": "60a35372",
   "metadata": {},
   "outputs": [
    {
     "data": {
      "text/plain": [
       "<matplotlib.legend.Legend at 0x220ebb3b4c0>"
      ]
     },
     "execution_count": 18,
     "metadata": {},
     "output_type": "execute_result"
    },
    {
     "data": {
      "image/png": "[encoded data removed]",
      "text/plain": [
       "<Figure size 576x432 with 1 Axes>"
      ]
     },
     "metadata": {
      "needs_background": "light"
     },
     "output_type": "display_data"
    }
   ],
   "source": [
    "plt.figure(figsize=(8,6))\n",
    "plt.scatter(X,y,s=100)\n",
    "plt.plot(X,reg.predict(X),color='red',label='Regression Line')\n",
    "plt.title('Line of Best Fit',fontsize=18)\n",
    "plt.xlabel('Study Hours')\n",
    "plt.ylabel('Scores')\n",
    "plt.legend()"
   ]
  },
  {
   "cell_type": "code",
   "execution_count": null,
   "id": "4f7e7a8f",
   "metadata": {},
   "outputs": [],
   "source": []
  }
 ],
 "metadata": {
  "kernelspec": {
   "display_name": "Python 3",
   "language": "python",
   "name": "python3"
  },
  "language_info": {
   "codemirror_mode": {
    "name": "ipython",
    "version": 3
   },
   "file_extension": ".py",
   "mimetype": "text/x-python",
   "name": "python",
   "nbconvert_exporter": "python",
   "pygments_lexer": "ipython3",
   "version": "3.8.8"
  }
 },
 "nbformat": 4,
 "nbformat_minor": 5
}
