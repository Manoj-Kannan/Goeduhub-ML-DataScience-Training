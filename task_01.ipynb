{
 "cells": [
  {
   "cell_type": "markdown",
   "id": "adb552d8",
   "metadata": {},
   "source": [
    "# Goeduhub Technologies - ML Training - Task 1\n",
    "## Registration ID: GO_STP_939 \n",
    "## Name: Manoj Kannan D\n",
    "## Assignment Questions Link : https://bit.ly/3vkDd5j"
   ]
  },
  {
   "cell_type": "markdown",
   "id": "0c1438d7",
   "metadata": {},
   "source": [
    "## Question 1 :\n",
    "We are having 3 list like this\n",
    "\n",
    "Colors = [“Yellow”,”Green”,”White”,”Black”]\n",
    "\n",
    "Fruits=[“Apple”,”Papaya”,”Mango”,”Orange”]\n",
    "\n",
    "Animals=[“Tiger”,”Lion”,”Deer”,”Zebra”]\n",
    "\n",
    "**1-i. Write a program that asks user to enter a Color/Fruit/Animal name and it should tell which category belongs to , like its is a fruit or color or Animal**"
   ]
  },
  {
   "cell_type": "code",
   "execution_count": 1,
   "id": "f23bdb30",
   "metadata": {},
   "outputs": [
    {
     "name": "stdout",
     "output_type": "stream",
     "text": [
      "Enter a Color/Fruit/Animal name:Yellow\n",
      "Color\n"
     ]
    }
   ],
   "source": [
    "Colors = [\"Yellow\",\"Green\",\"White\",\"Black\"]\n",
    "Fruits = [\"Apple\",\"Payapa\",\"Mango\",\"Orange\"]\n",
    "Animals = [\"Tiger\",\"Lion\",\"Deer\",\"Zebra\"]\n",
    "\n",
    "user = input(\"Enter a Color/Fruit/Animal name:\")\n",
    "\n",
    "if user in Colors:\n",
    "    print('Color')\n",
    "elif user in Fruits:\n",
    "    print('Fruit')\n",
    "elif user in Animals:\n",
    "    print('Animal')\n",
    "else:\n",
    "    print('invalid input')"
   ]
  },
  {
   "cell_type": "markdown",
   "id": "10b8adb3",
   "metadata": {},
   "source": [
    "**1-ii. Write a program that asks user to enter two cities and it tells you if they both are in same country or not. For example if I enter yellow and Black, it will print \"Both are colors\" but if I enter yellow and Tiger it should print \"They don't belong to same category\"**"
   ]
  },
  {
   "cell_type": "code",
   "execution_count": 2,
   "id": "6322244a",
   "metadata": {},
   "outputs": [
    {
     "name": "stdout",
     "output_type": "stream",
     "text": [
      "Enter a Color/Fruit/Animal name:Tiger\n",
      "Enter a Color/Fruit/Animal name:Lion\n",
      "Both are Animals\n"
     ]
    }
   ],
   "source": [
    "inp1 = input(\"Enter a Color/Fruit/Animal name:\")\n",
    "inp2 = input(\"Enter a Color/Fruit/Animal name:\")\n",
    "\n",
    "if inp1 in Colors and inp2 in Colors:\n",
    "    print('Both are Colors')\n",
    "elif inp1 in Fruits and inp2 in Fruits:\n",
    "    print('Both are Fruits')\n",
    "elif inp1 in Animals and inp2 in Animals:\n",
    "    print('Both are Animals')\n",
    "else:\n",
    "    print('They don\\'t belong to same category')"
   ]
  },
  {
   "cell_type": "markdown",
   "id": "36a822c3",
   "metadata": {},
   "source": [
    "## Question 2:\n",
    "**Write a python program that can tell you if your grade score good or not . Normal Score range is 40 to 60.**\n",
    "\n",
    "  i. Ask user to enter his score.\n",
    "\n",
    "  ii. If it is below 40 to 60 range then print that score is low\n",
    "\n",
    "  iii. If it is above 60 then print that it is good otherwise print that it is normal"
   ]
  },
  {
   "cell_type": "code",
   "execution_count": 3,
   "id": "ae0924d8",
   "metadata": {},
   "outputs": [
    {
     "name": "stdout",
     "output_type": "stream",
     "text": [
      "Enter your score: 70\n",
      "Score is Good\n"
     ]
    }
   ],
   "source": [
    "score = int(input(\"Enter your score: \"))\n",
    "if 40 < score < 61:\n",
    "    print('Score is Normal')\n",
    "elif score<=40:\n",
    "    print('Score is Low')\n",
    "else:\n",
    "    print('Score is Good')"
   ]
  },
  {
   "cell_type": "markdown",
   "id": "b1c2a583",
   "metadata": {},
   "source": [
    "## Question 3:\n",
    "After appearing in exam 10 times you got this result,\n",
    "\n",
    "result = [\"Pass\",\"Fail\",\"Fail\",\"Pass\",\"Fail\",\"Pass\",\"Pass\",\"Fail\",\"Fail\",\"Fail\"]\n",
    "\n",
    "Using for loop figure out how many times you got Pass"
   ]
  },
  {
   "cell_type": "code",
   "execution_count": 4,
   "id": "8a5438db",
   "metadata": {},
   "outputs": [
    {
     "name": "stdout",
     "output_type": "stream",
     "text": [
      "4\n"
     ]
    }
   ],
   "source": [
    "result = [\"Pass\",\"Fail\",\"Fail\",\"Pass\",\"Fail\",\"Pass\",\"Pass\",\"Fail\",\"Fail\",\"Fail\"]\n",
    "count = 0\n",
    "for i in result:\n",
    "    if i == 'Pass':\n",
    "        count+=1\n",
    "print(count)"
   ]
  },
  {
   "cell_type": "markdown",
   "id": "f7d72217",
   "metadata": {},
   "source": [
    "## Question 4\n",
    "**Write a program that prints following shape**"
   ]
  },
  {
   "cell_type": "code",
   "execution_count": 5,
   "id": "d3bde5c5",
   "metadata": {},
   "outputs": [
    {
     "name": "stdout",
     "output_type": "stream",
     "text": [
      "* \n",
      "* * \n",
      "* * * \n",
      "* * * * \n",
      "* * * * * \n",
      "* * * * \n",
      "* * * \n",
      "* * \n",
      "* \n"
     ]
    }
   ],
   "source": [
    "for i in range(5):\n",
    "    for k in range(0,i+1):\n",
    "        print('*',end=' ')\n",
    "    print()\n",
    "for i in range(4,0,-1):\n",
    "    for k in range(0,i):\n",
    "        print('*',end=' ')\n",
    "    print()    "
   ]
  },
  {
   "cell_type": "markdown",
   "id": "1d6e176e",
   "metadata": {},
   "source": [
    "## Question 5\n",
    "**Lets say you are running a 50 km race. Write a program that,**\n",
    "\n",
    "    Upon completing each 10 km asks you \"are you tired?\"\n",
    "    If you reply \"yes\" then it should break and print \"you didn't finish the race\"\n",
    "    If you reply \"no\" then it should continue and ask \"are you tired\" on every km\n",
    "    If you finish all 50 km then it should print congratulations message"
   ]
  },
  {
   "cell_type": "code",
   "execution_count": 6,
   "id": "6baf92a2",
   "metadata": {
    "scrolled": true
   },
   "outputs": [
    {
     "name": "stdout",
     "output_type": "stream",
     "text": [
      "are you tired?no\n",
      "are you tired?no\n",
      "are you tired?no\n",
      "are you tired?yes\n",
      "you didn't finish the race\n"
     ]
    }
   ],
   "source": [
    "for round in range(1,52):\n",
    "    if round==51:\n",
    "        print('Congralations!!')\n",
    "    if round in [11,21,31,41] or round>10:\n",
    "        quest = input(\"are you tired?\")\n",
    "        if quest == 'yes':\n",
    "            print(\"you didn't finish the race\")\n",
    "            break\n",
    "        elif quest == 'no':\n",
    "            continue"
   ]
  },
  {
   "cell_type": "markdown",
   "id": "b38425b5",
   "metadata": {},
   "source": [
    "## Question 6:\n",
    "**Write a Python program to find those numbers which are divisible by 7 and multiple of 5, between 1500 and 2700 (both included).**\n"
   ]
  },
  {
   "cell_type": "code",
   "execution_count": 7,
   "id": "ca2a83a2",
   "metadata": {},
   "outputs": [
    {
     "name": "stdout",
     "output_type": "stream",
     "text": [
      "1505\n",
      "1540\n",
      "1575\n",
      "1610\n",
      "1645\n",
      "1680\n",
      "1715\n",
      "1750\n",
      "1785\n",
      "1820\n",
      "1855\n",
      "1890\n",
      "1925\n",
      "1960\n",
      "1995\n",
      "2030\n",
      "2065\n",
      "2100\n",
      "2135\n",
      "2170\n",
      "2205\n",
      "2240\n",
      "2275\n",
      "2310\n",
      "2345\n",
      "2380\n",
      "2415\n",
      "2450\n",
      "2485\n",
      "2520\n",
      "2555\n",
      "2590\n",
      "2625\n",
      "2660\n",
      "2695\n"
     ]
    }
   ],
   "source": [
    "for i in range(1500,2701):\n",
    "    if i%7 == 0 and i%5 == 0:\n",
    "        print(i)"
   ]
  },
  {
   "cell_type": "markdown",
   "id": "839e3d18",
   "metadata": {},
   "source": [
    "## Question 7:\n",
    "**Print square of all numbers between 10 to 20 except even numbers**"
   ]
  },
  {
   "cell_type": "code",
   "execution_count": 8,
   "id": "137349db",
   "metadata": {
    "scrolled": true
   },
   "outputs": [
    {
     "name": "stdout",
     "output_type": "stream",
     "text": [
      "11 - 121\n",
      "13 - 169\n",
      "15 - 225\n",
      "17 - 289\n",
      "19 - 361\n"
     ]
    }
   ],
   "source": [
    "for i in range(11,20,2):\n",
    "    print('{} - {}'.format(i,i**2))"
   ]
  },
  {
   "cell_type": "markdown",
   "id": "61dfdabe",
   "metadata": {},
   "source": [
    "## Question 8:\n",
    "Your Marks for five Test(test1 to test5) looks like this,\n",
    "\n",
    "marks_list = [65, 75, 2100, 95, 83]\n",
    "\n",
    "**Write a program that asks you to enter marks and program should tell you in which test that marks occurred. If marks is not found then it should print that as well.**"
   ]
  },
  {
   "cell_type": "code",
   "execution_count": 9,
   "id": "bf0423af",
   "metadata": {},
   "outputs": [
    {
     "name": "stdout",
     "output_type": "stream",
     "text": [
      "Enter a mark: 95\n",
      "Its Test 4\n"
     ]
    }
   ],
   "source": [
    "marks_list = [65, 75, 2100, 95, 83]\n",
    "mark = int(input('Enter a mark: '))\n",
    "for i in range(len(marks_list)):\n",
    "    if mark == marks_list[i]:\n",
    "        print('Its Test %d'%(i+1))\n",
    "        break\n",
    "else:\n",
    "    print('Mark not found')"
   ]
  },
  {
   "cell_type": "code",
   "execution_count": null,
   "id": "85be4829",
   "metadata": {},
   "outputs": [],
   "source": []
  }
 ],
 "metadata": {
  "kernelspec": {
   "display_name": "Python 3",
   "language": "python",
   "name": "python3"
  },
  "language_info": {
   "codemirror_mode": {
    "name": "ipython",
    "version": 3
   },
   "file_extension": ".py",
   "mimetype": "text/x-python",
   "name": "python",
   "nbconvert_exporter": "python",
   "pygments_lexer": "ipython3",
   "version": "3.8.8"
  }
 },
 "nbformat": 4,
 "nbformat_minor": 5
}
