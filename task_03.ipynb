{
 "cells": [
  {
   "cell_type": "markdown",
   "id": "c3b0cb97",
   "metadata": {},
   "source": [
    "# Goeduhub Technologies - ML Training - Task 3\n",
    "## Registration ID: GO_STP_939 \n",
    "## Name: Manoj Kannan D\n",
    "### ---------------------------------------------------------------------------------------------------------------------------------------------------------------"
   ]
  },
  {
   "cell_type": "markdown",
   "id": "7b2601c3",
   "metadata": {},
   "source": [
    "## Question on Dictionary:-"
   ]
  },
  {
   "cell_type": "markdown",
   "id": "2eaedeb9",
   "metadata": {},
   "source": [
    "### Q1. Write a Python Program to sort (ascending and descending) a dictionary by value. "
   ]
  },
  {
   "cell_type": "code",
   "execution_count": 1,
   "id": "6d3f1ff0",
   "metadata": {},
   "outputs": [
    {
     "name": "stdout",
     "output_type": "stream",
     "text": [
      "[('cortado', 41), ('americano', 48), ('cappuccino', 54), ('latte', 56), ('espresso', 72)]\n",
      "[('espresso', 72), ('latte', 56), ('cappuccino', 54), ('americano', 48), ('cortado', 41)]\n"
     ]
    }
   ],
   "source": [
    "# sorted() have a key parameter to specify a function to be called on each list element prior to making comparisons.\n",
    "\n",
    "orders = {'cappuccino': 54, 'latte': 56, 'espresso': 72, 'americano': 48, 'cortado': 41 }\n",
    "\n",
    "ascending_orders = sorted(orders.items(), key = lambda x: x[1])\n",
    "descending_orders = sorted(orders.items(), key = lambda x: x[1],reverse=True)\n",
    "# parameter 'key' takes the values of dictionary as the comparison metric for sorting. \n",
    "\n",
    "print(ascending_orders)\n",
    "print(descending_orders)"
   ]
  },
  {
   "cell_type": "markdown",
   "id": "0bbb9df3",
   "metadata": {},
   "source": [
    "### Q2. Write a Python Program to add a key to a dictionary.\n",
    "**Sample Dictionary : {0: 10, 1: 20}**<br>\n",
    "**Expected Result : {0: 10, 1: 20, 2: 30}**"
   ]
  },
  {
   "cell_type": "code",
   "execution_count": 2,
   "id": "1c24b508",
   "metadata": {},
   "outputs": [
    {
     "name": "stdout",
     "output_type": "stream",
     "text": [
      "{0: 10, 1: 20, 2: 30}\n"
     ]
    }
   ],
   "source": [
    "dictionary = {0: 10, 1: 20}\n",
    "dictionary.update({2: 30})\n",
    "# or use dictionary[2] = 30\n",
    "print(dictionary)"
   ]
  },
  {
   "cell_type": "markdown",
   "id": "280f888c",
   "metadata": {},
   "source": [
    "### Q3. Write a program asks for City name and Temperature and builds a dictionary using that later on you can input city name and it will tell you the Temperature of that City."
   ]
  },
  {
   "cell_type": "code",
   "execution_count": 3,
   "id": "65e29014",
   "metadata": {},
   "outputs": [
    {
     "name": "stdout",
     "output_type": "stream",
     "text": [
      "Enter the city name:Cuddalore\n",
      "Enter the temperature:36\n",
      "Do you want to add more cities? (yes or no):yes\n",
      "Enter the city name:Sivaganga\n",
      "Enter the temperature:40\n",
      "Do you want to add more cities? (yes or no):no\n",
      "Enter the city to see it's temperature : Cuddalore\n",
      "Temperature in Cuddalore is 36.0 C\n"
     ]
    }
   ],
   "source": [
    "citiesTemp = {}\n",
    "while True:\n",
    "    cityName = input('Enter the city name:')\n",
    "    Temp = float(input('Enter the temperature:'))\n",
    "    citiesTemp[cityName]=Temp\n",
    "    choice = input('Do you want to add more cities? (yes or no):')\n",
    "    if choice == 'yes':\n",
    "        continue\n",
    "    elif choice == 'no':\n",
    "        break\n",
    "    else:\n",
    "        print('invalid input')\n",
    "check = input(\"Enter the city to see it's temperature : \").strip()\n",
    "print('Temperature in {} is {} C'.format(check,citiesTemp.get(check)))"
   ]
  },
  {
   "cell_type": "markdown",
   "id": "619b0d33",
   "metadata": {},
   "source": [
    "### Q4. Write a Python program to convert list to list of dictionaries.\n",
    "**Sample lists: [\"Black\", \"Red\", \"Maroon\", \"Yellow\"] , [\"#000000\", \"#FF0000\", \"#800000\", \"#FFFF00\"]**"
   ]
  },
  {
   "cell_type": "code",
   "execution_count": 4,
   "id": "31866351",
   "metadata": {},
   "outputs": [
    {
     "name": "stdout",
     "output_type": "stream",
     "text": [
      "[{'color_name': 'Black', 'color_code': '#000000'}, {'color_name': 'Red', 'color_code': '#FF0000'}, {'color_name': 'Maroon', 'color_code': '#800000'}, {'color_name': 'Yellow', 'color_code': '#FFFF00'}]\n"
     ]
    }
   ],
   "source": [
    "colorName = [\"Black\", \"Red\", \"Maroon\", \"Yellow\"]\n",
    "colorCode = [\"#000000\", \"#FF0000\", \"#800000\", \"#FFFF00\"]\n",
    "colorDict = []\n",
    "\n",
    "for name,code in zip(colorName,colorCode):\n",
    "    colorDict.append({'color_name': name, 'color_code': code})\n",
    "print(colorDict)"
   ]
  },
  {
   "cell_type": "markdown",
   "id": "8666684e",
   "metadata": {},
   "source": [
    "### Q5. We have following information on Employees and their Salary (Salary is in lakhs),"
   ]
  },
  {
   "attachments": {
    "Untitled_1.png": {
     "image/png": "[encoded data removed]"
    }
   },
   "cell_type": "markdown",
   "id": "9533b7cf",
   "metadata": {},
   "source": [
    "![Untitled_1.png](attachment:Untitled_1.png)"
   ]
  },
  {
   "cell_type": "markdown",
   "id": "f45e5f36",
   "metadata": {},
   "source": [
    "### 1.Using above create a dictionary of Employees and their Salary \n",
    "### 2.Write a program that asks user for three type of inputs,\n",
    "    \n",
    "    a) print: if user enter print then it should print all Employees with their Salary in this format\n",
    "        John ==>14\n",
    "        Smith ==>13\n",
    "        Alice ==>32\n",
    "        Daneil ==>21\n",
    "    \n",
    "    b) add: if user input adds then it should further ask for an Employee name to add. If Employee already exists in our dataset then it should print that it exists and do nothing. If it doesn't then it asks for Salary and add that new Employee/Salary in our dictionary and print it\n",
    "    \n",
    "    c)remove: when user inputs remove it should ask for an Employee to remove. If an Employee exists in our dictionary then remove it and print a new dictionary using format shown above in (a). Else print that Employee doesn't exist!\n",
    "    \n",
    "    d)query: on this again ask the user for which Employee he or she wants to query. When a user inputs that Employee it will print the Salary of that Employee."
   ]
  },
  {
   "cell_type": "code",
   "execution_count": 5,
   "id": "afd95a0c",
   "metadata": {},
   "outputs": [],
   "source": [
    "def print_details():\n",
    "    print()\n",
    "    for key,value in employee.items():\n",
    "        print('{} ==> {}'.format(key,value))\n",
    "        \n",
    "def add():\n",
    "    name = input(\"\\nEnter the employee name : \").capitalize()\n",
    "    if name in employee.keys():\n",
    "        print(\"Employee already exists!\")\n",
    "        return\n",
    "    else:\n",
    "        salary = int(input(\"Enter Salary : \"))\n",
    "        employee.update({name:salary})\n",
    "        print_details()\n",
    "        \n",
    "def pop():\n",
    "    name = input(\"\\nEnter the employee name : \").capitalize()\n",
    "    if name in employee.keys():\n",
    "        employee.pop(name)\n",
    "        print('Employee removed')\n",
    "        print_details()\n",
    "    else:\n",
    "        print(\"Employee doesn\\'t exists!\")\n",
    "\n",
    "def query():\n",
    "    name = input(\"\\nEnter the employee name : \").capitalize()\n",
    "    if name in employee.keys():\n",
    "        print('Salary of the employee is',employee[name])\n",
    "    else:\n",
    "        print(\"Employee doesn\\'t exists!\")"
   ]
  },
  {
   "cell_type": "code",
   "execution_count": 7,
   "id": "af020976",
   "metadata": {},
   "outputs": [
    {
     "name": "stdout",
     "output_type": "stream",
     "text": [
      "\n",
      "1)Print all records \n",
      "2)Add new record \n",
      "3)Remove a record \n",
      "4)Query \n",
      "5)Exit\n",
      "Enter your choice: 1\n",
      "\n",
      "John ==> 14\n",
      "Smith ==> 13\n",
      "Alice ==> 32\n",
      "Daneil ==> 21\n",
      "\n",
      "1)Print all records \n",
      "2)Add new record \n",
      "3)Remove a record \n",
      "4)Query \n",
      "5)Exit\n",
      "Enter your choice: 2\n",
      "\n",
      "Enter the employee name : manoj\n",
      "Enter Salary : 80\n",
      "\n",
      "John ==> 14\n",
      "Smith ==> 13\n",
      "Alice ==> 32\n",
      "Daneil ==> 21\n",
      "Manoj ==> 80\n",
      "\n",
      "1)Print all records \n",
      "2)Add new record \n",
      "3)Remove a record \n",
      "4)Query \n",
      "5)Exit\n",
      "Enter your choice: 3\n",
      "\n",
      "Enter the employee name : alice\n",
      "Employee removed\n",
      "\n",
      "John ==> 14\n",
      "Smith ==> 13\n",
      "Daneil ==> 21\n",
      "Manoj ==> 80\n",
      "\n",
      "1)Print all records \n",
      "2)Add new record \n",
      "3)Remove a record \n",
      "4)Query \n",
      "5)Exit\n",
      "Enter your choice: 4\n",
      "\n",
      "Enter the employee name : smith\n",
      "Salary of the employee is 13\n",
      "\n",
      "1)Print all records \n",
      "2)Add new record \n",
      "3)Remove a record \n",
      "4)Query \n",
      "5)Exit\n",
      "Enter your choice: ar\n",
      "Invalid input\n",
      "\n",
      "1)Print all records \n",
      "2)Add new record \n",
      "3)Remove a record \n",
      "4)Query \n",
      "5)Exit\n",
      "Enter your choice: 5\n"
     ]
    }
   ],
   "source": [
    "employee = {'John' : 14, 'Smith' : 13, 'Alice' : 32, 'Daneil' : 21}\n",
    "while True:\n",
    "    print()\n",
    "    print('1)Print all records \\n2)Add new record \\n3)Remove a record \\n4)Query \\n5)Exit')\n",
    "    choice = input('Enter your choice: ')\n",
    "    if choice == '1':\n",
    "        print_details()\n",
    "    elif choice == '2':\n",
    "        add()\n",
    "    elif choice == '3':\n",
    "        pop()\n",
    "    elif choice == '4':\n",
    "        query()    \n",
    "    elif choice == '5':\n",
    "        break\n",
    "    else:\n",
    "        print('Invalid input')      "
   ]
  },
  {
   "cell_type": "markdown",
   "id": "5a9754fa",
   "metadata": {},
   "source": [
    "## Questions on Sets:-"
   ]
  },
  {
   "cell_type": "markdown",
   "id": "55944773",
   "metadata": {},
   "source": [
    "### Q1. What is the difference between a set and a frozenset? Create any set and try to use frozenset(setname).\n",
    "#### Ans: Frozen set is an immutable version of a Python set object. Elements of a set can be modified at any time, but elements of the frozen set remain the same after creation."
   ]
  },
  {
   "cell_type": "code",
   "execution_count": 8,
   "id": "024b90b1",
   "metadata": {},
   "outputs": [
    {
     "name": "stdout",
     "output_type": "stream",
     "text": [
      "set: {1, 2, 3, 4, 5, 6, 7}\n",
      "frozenset: frozenset({1, 2, 3, 4, 5, 6})\n"
     ]
    }
   ],
   "source": [
    "sample = {1,1,2,3,4,4,5,6}\n",
    "frozen = frozenset(sample)\n",
    "\n",
    "sample.add(7)\n",
    "# Elements can be updated in frozenset.\n",
    "\n",
    "print('set:',sample)\n",
    "print('frozenset:',frozen)"
   ]
  },
  {
   "cell_type": "markdown",
   "id": "911e3758",
   "metadata": {},
   "source": [
    "### Q2. Find the elements in a given set that are not in another set\n",
    "\n",
    "    set1 = {10,20,30,40,50}\n",
    "\n",
    "    set2 = {40,50,60,70,80}\n",
    "\n",
    "**Difference between set1 and set2 is {10,20,30}**"
   ]
  },
  {
   "cell_type": "code",
   "execution_count": 9,
   "id": "525d01fa",
   "metadata": {},
   "outputs": [
    {
     "name": "stdout",
     "output_type": "stream",
     "text": [
      "Difference between the sets: {10, 20, 30}\n"
     ]
    }
   ],
   "source": [
    "set1 = {10,20,30,40,50}\n",
    "set2 = {40,50,60,70,80}\n",
    "print('Difference between the sets:',set1.difference(set2))"
   ]
  },
  {
   "cell_type": "code",
   "execution_count": null,
   "id": "a3a9a0a3",
   "metadata": {},
   "outputs": [],
   "source": []
  }
 ],
 "metadata": {
  "kernelspec": {
   "display_name": "Python 3",
   "language": "python",
   "name": "python3"
  },
  "language_info": {
   "codemirror_mode": {
    "name": "ipython",
    "version": 3
   },
   "file_extension": ".py",
   "mimetype": "text/x-python",
   "name": "python",
   "nbconvert_exporter": "python",
   "pygments_lexer": "ipython3",
   "version": "3.8.8"
  }
 },
 "nbformat": 4,
 "nbformat_minor": 5
}
