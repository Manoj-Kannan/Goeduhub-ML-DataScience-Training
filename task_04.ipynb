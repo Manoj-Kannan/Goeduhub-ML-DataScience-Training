{
 "cells": [
  {
   "cell_type": "markdown",
   "id": "cfcd6911",
   "metadata": {},
   "source": [
    "# Goeduhub Technologies - ML Training - Task 4\n",
    "## Registration ID: GO_STP_939 \n",
    "## Name: Manoj Kannan D"
   ]
  },
  {
   "cell_type": "markdown",
   "id": "80f4a9ae",
   "metadata": {},
   "source": [
    "### 1.Import the numpy package under the name np and Print the numpy version and the configuration "
   ]
  },
  {
   "cell_type": "code",
   "execution_count": 1,
   "id": "03ed22f0",
   "metadata": {},
   "outputs": [
    {
     "name": "stdout",
     "output_type": "stream",
     "text": [
      "1.20.1\n",
      "blas_mkl_info:\n",
      "    libraries = ['mkl_rt']\n",
      "    library_dirs = ['C:/ProgramData/Anaconda3\\\\Library\\\\lib']\n",
      "    define_macros = [('SCIPY_MKL_H', None), ('HAVE_CBLAS', None)]\n",
      "    include_dirs = ['C:/ProgramData/Anaconda3\\\\Library\\\\include']\n",
      "blas_opt_info:\n",
      "    libraries = ['mkl_rt']\n",
      "    library_dirs = ['C:/ProgramData/Anaconda3\\\\Library\\\\lib']\n",
      "    define_macros = [('SCIPY_MKL_H', None), ('HAVE_CBLAS', None)]\n",
      "    include_dirs = ['C:/ProgramData/Anaconda3\\\\Library\\\\include']\n",
      "lapack_mkl_info:\n",
      "    libraries = ['mkl_rt']\n",
      "    library_dirs = ['C:/ProgramData/Anaconda3\\\\Library\\\\lib']\n",
      "    define_macros = [('SCIPY_MKL_H', None), ('HAVE_CBLAS', None)]\n",
      "    include_dirs = ['C:/ProgramData/Anaconda3\\\\Library\\\\include']\n",
      "lapack_opt_info:\n",
      "    libraries = ['mkl_rt']\n",
      "    library_dirs = ['C:/ProgramData/Anaconda3\\\\Library\\\\lib']\n",
      "    define_macros = [('SCIPY_MKL_H', None), ('HAVE_CBLAS', None)]\n",
      "    include_dirs = ['C:/ProgramData/Anaconda3\\\\Library\\\\include']\n",
      "None\n"
     ]
    }
   ],
   "source": [
    "import numpy as np\n",
    "print(np.__version__)\n",
    "print(np.show_config())"
   ]
  },
  {
   "cell_type": "markdown",
   "id": "0f1be4d9",
   "metadata": {},
   "source": [
    "### 2.Create a null vector of size 10"
   ]
  },
  {
   "cell_type": "code",
   "execution_count": 2,
   "id": "116e951f",
   "metadata": {},
   "outputs": [
    {
     "data": {
      "text/plain": [
       "array([0., 0., 0., 0., 0., 0., 0., 0., 0., 0.])"
      ]
     },
     "execution_count": 2,
     "metadata": {},
     "output_type": "execute_result"
    }
   ],
   "source": [
    "np.zeros(10)"
   ]
  },
  {
   "cell_type": "markdown",
   "id": "bd5f6394",
   "metadata": {},
   "source": [
    "### 3.Create Simple 1-D array and check type and check data types in array"
   ]
  },
  {
   "cell_type": "code",
   "execution_count": 3,
   "id": "1c4c634b",
   "metadata": {},
   "outputs": [
    {
     "name": "stdout",
     "output_type": "stream",
     "text": [
      "Type: <class 'numpy.ndarray'>\n",
      "Elements Type: int32\n"
     ]
    }
   ],
   "source": [
    "sample = np.array([1,2,3,4,5])\n",
    "print('Type:',type(sample))\n",
    "print('Elements Type:',sample.dtype)"
   ]
  },
  {
   "cell_type": "markdown",
   "id": "16f81465",
   "metadata": {},
   "source": [
    "### 4.How to find number of dimensions, bytes per element and bytes of memory used?"
   ]
  },
  {
   "cell_type": "code",
   "execution_count": 4,
   "id": "e53a5501",
   "metadata": {},
   "outputs": [
    {
     "name": "stdout",
     "output_type": "stream",
     "text": [
      "Dimensions: 1\n",
      "Bytes per element: 4\n",
      "Memory occupies: 20\n"
     ]
    }
   ],
   "source": [
    "sample = np.array([1,2,3,4,5])\n",
    "print('Dimensions:',sample.ndim)\n",
    "print('Bytes per element:',sample.itemsize)\n",
    "print('Memory occupies:',sample.itemsize*sample.size)"
   ]
  },
  {
   "cell_type": "markdown",
   "id": "d406c6e5",
   "metadata": {},
   "source": [
    "### 5.Create a null vector of size 10 but the fifth value which is 1"
   ]
  },
  {
   "cell_type": "code",
   "execution_count": 5,
   "id": "335db429",
   "metadata": {},
   "outputs": [
    {
     "name": "stdout",
     "output_type": "stream",
     "text": [
      "[0. 0. 0. 0. 1. 0. 0. 0. 0. 0.]\n"
     ]
    }
   ],
   "source": [
    "arr = np.zeros(10)\n",
    "arr[4] = 1\n",
    "print(arr)"
   ]
  },
  {
   "cell_type": "markdown",
   "id": "05e1ec95",
   "metadata": {},
   "source": [
    "### 6.Create a vector with values ranging from 10 to 49"
   ]
  },
  {
   "cell_type": "code",
   "execution_count": 6,
   "id": "ac332e15",
   "metadata": {},
   "outputs": [
    {
     "name": "stdout",
     "output_type": "stream",
     "text": [
      "[10 11 12 13 14 15 16 17 18 19 20 21 22 23 24 25 26 27 28 29 30 31 32 33\n",
      " 34 35 36 37 38 39 40 41 42 43 44 45 46 47 48 49]\n"
     ]
    }
   ],
   "source": [
    "arr = np.arange(10,50)\n",
    "print(arr)"
   ]
  },
  {
   "cell_type": "markdown",
   "id": "9bbd7f5f",
   "metadata": {},
   "source": [
    "### 7.Reverse a vector (first element becomes last)"
   ]
  },
  {
   "cell_type": "code",
   "execution_count": 7,
   "id": "2c1e5d05",
   "metadata": {},
   "outputs": [
    {
     "name": "stdout",
     "output_type": "stream",
     "text": [
      "Before reversing: [1 2 3 4 5]\n",
      "After reversing: [5 4 3 2 1]\n"
     ]
    }
   ],
   "source": [
    "arr = np.array([1,2,3,4,5])\n",
    "print('Before reversing:',arr)\n",
    "print('After reversing:',arr[::-1])"
   ]
  },
  {
   "cell_type": "markdown",
   "id": "2328d194",
   "metadata": {},
   "source": [
    "### 8.Create a 3x3 matrix with values ranging from 0 to 8"
   ]
  },
  {
   "cell_type": "code",
   "execution_count": 8,
   "id": "3238150a",
   "metadata": {},
   "outputs": [
    {
     "name": "stdout",
     "output_type": "stream",
     "text": [
      "[[0 1 2]\n",
      " [3 4 5]\n",
      " [6 7 8]]\n"
     ]
    }
   ],
   "source": [
    "arr = np.arange(9).reshape(3,3)\n",
    "print(arr)"
   ]
  },
  {
   "cell_type": "markdown",
   "id": "df0fc3a2",
   "metadata": {},
   "source": [
    "### 9.Find indices of non-zero elements from [1,2,0,0,4,0]"
   ]
  },
  {
   "cell_type": "code",
   "execution_count": 9,
   "id": "2586be4e",
   "metadata": {},
   "outputs": [
    {
     "name": "stdout",
     "output_type": "stream",
     "text": [
      "(array([0, 1, 4], dtype=int64),)\n"
     ]
    }
   ],
   "source": [
    "arr = np.array([1,2,0,0,4,0])\n",
    "print(np.nonzero(arr))"
   ]
  },
  {
   "cell_type": "markdown",
   "id": "02fb81f9",
   "metadata": {},
   "source": [
    "### 10.Create a 3x3 identity matrix"
   ]
  },
  {
   "cell_type": "code",
   "execution_count": 10,
   "id": "8abe1c48",
   "metadata": {},
   "outputs": [
    {
     "data": {
      "text/plain": [
       "array([[1., 0., 0.],\n",
       "       [0., 1., 0.],\n",
       "       [0., 0., 1.]])"
      ]
     },
     "execution_count": 10,
     "metadata": {},
     "output_type": "execute_result"
    }
   ],
   "source": [
    "np.eye(3,3)"
   ]
  },
  {
   "cell_type": "markdown",
   "id": "3d4b1168",
   "metadata": {},
   "source": [
    "### 11.Create a 3x3x3 array with random values"
   ]
  },
  {
   "cell_type": "code",
   "execution_count": 11,
   "id": "2e81a47f",
   "metadata": {},
   "outputs": [
    {
     "data": {
      "text/plain": [
       "array([[[0.29443949, 0.37203665, 0.38523268],\n",
       "        [0.41700781, 0.89640912, 0.38907617],\n",
       "        [0.92121112, 0.38914808, 0.16830543]],\n",
       "\n",
       "       [[0.21263308, 0.79648022, 0.12052714],\n",
       "        [0.22135163, 0.16457459, 0.15928236],\n",
       "        [0.04985032, 0.14791135, 0.71571116]],\n",
       "\n",
       "       [[0.9617453 , 0.59299098, 0.91032351],\n",
       "        [0.21002467, 0.62079436, 0.09802175],\n",
       "        [0.63780107, 0.01944482, 0.1250219 ]]])"
      ]
     },
     "execution_count": 11,
     "metadata": {},
     "output_type": "execute_result"
    }
   ],
   "source": [
    "np.random.random((3,3,3))"
   ]
  },
  {
   "cell_type": "markdown",
   "id": "167bcb7c",
   "metadata": {},
   "source": [
    "### 12.Create a 10x10 array with random values and find the minimum and maximum values"
   ]
  },
  {
   "cell_type": "code",
   "execution_count": 12,
   "id": "45a19962",
   "metadata": {},
   "outputs": [
    {
     "name": "stdout",
     "output_type": "stream",
     "text": [
      "Minimum Value : 0.004555717568630491\n",
      "Maximum Value : 0.9971948458460347\n"
     ]
    }
   ],
   "source": [
    "arr = np.random.random((10,10))\n",
    "print(\"Minimum Value :\", np.min(arr))\n",
    "print(\"Maximum Value :\", np.max(arr))"
   ]
  },
  {
   "cell_type": "markdown",
   "id": "d810c9e0",
   "metadata": {},
   "source": [
    "### 13.Create a random vector of size 30 and find the mean value"
   ]
  },
  {
   "cell_type": "code",
   "execution_count": 13,
   "id": "b78f6d91",
   "metadata": {},
   "outputs": [
    {
     "name": "stdout",
     "output_type": "stream",
     "text": [
      "Mean: 0.4910541704418773\n"
     ]
    }
   ],
   "source": [
    "arr = np.random.random((6,5))\n",
    "print('Mean:',np.mean(arr))"
   ]
  },
  {
   "cell_type": "markdown",
   "id": "090ae577",
   "metadata": {},
   "source": [
    "### 14.Create a 2d array with 1 on the border and 0 inside"
   ]
  },
  {
   "cell_type": "code",
   "execution_count": 14,
   "id": "e9965fb6",
   "metadata": {},
   "outputs": [
    {
     "name": "stdout",
     "output_type": "stream",
     "text": [
      "[[1. 1. 1. 1. 1.]\n",
      " [1. 0. 0. 0. 1.]\n",
      " [1. 0. 0. 0. 1.]\n",
      " [1. 0. 0. 0. 1.]\n",
      " [1. 1. 1. 1. 1.]]\n"
     ]
    }
   ],
   "source": [
    "arr = np.zeros((3,3))\n",
    "pad = np.pad(arr, pad_width = 1, constant_values = 1)\n",
    "# np.pad - Pad an array of elements\n",
    "print(pad)"
   ]
  },
  {
   "cell_type": "markdown",
   "id": "72d96414",
   "metadata": {},
   "source": [
    "### 15.How to add a border (filled with 0's) around an existing array? "
   ]
  },
  {
   "cell_type": "code",
   "execution_count": 15,
   "id": "316aa6bb",
   "metadata": {},
   "outputs": [
    {
     "name": "stdout",
     "output_type": "stream",
     "text": [
      "[[0 0 0 0 0]\n",
      " [0 2 9 1 0]\n",
      " [0 8 3 4 0]\n",
      " [0 9 8 8 0]\n",
      " [0 0 0 0 0]]\n"
     ]
    }
   ],
   "source": [
    "arr = np.random.randint(low=1,high=10,size=(3,3))\n",
    "pad = np.pad(arr, pad_width = 1, constant_values = 0)\n",
    "print(pad)"
   ]
  },
  {
   "cell_type": "markdown",
   "id": "942afbe7",
   "metadata": {},
   "source": [
    "### 16.How to Accessing/Changing specific elements, rows, columns, etc in Numpy array?\n",
    "#### Example - [[ 1 2 3 4 5 6 7] [ 8 9 10 11 12 13 14]]\n",
    "#### Get 13, get first row only, get 3rd column only, get [2, 4, 6], replace 13 by 20"
   ]
  },
  {
   "cell_type": "code",
   "execution_count": 16,
   "id": "8191945e",
   "metadata": {},
   "outputs": [
    {
     "name": "stdout",
     "output_type": "stream",
     "text": [
      "arr[1][5] = 13\n",
      "First Row: [1 2 3 4 5 6 7]\n",
      "Third Column: [ 3 10]\n",
      "[2 4 6]\n",
      "[[ 1  2  3  4  5  6  7]\n",
      " [ 8  9 10 11 12 20 14]]\n"
     ]
    }
   ],
   "source": [
    "arr = np.array([[ 1, 2, 3, 4, 5, 6, 7],\n",
    "                  [ 8, 9, 10, 11, 12, 13, 14]])\n",
    "print('arr[1][5] =',arr[1][5])\n",
    "print('First Row:',arr[0])\n",
    "print('Third Column:',arr[:,2])\n",
    "print(arr[0,1:7:2])\n",
    "arr[1,5] = 20\n",
    "print(arr)"
   ]
  },
  {
   "cell_type": "markdown",
   "id": "720eaf20",
   "metadata": {},
   "source": [
    "### 17.How to Convert a 1D array to a 2D array with 2 rows"
   ]
  },
  {
   "cell_type": "code",
   "execution_count": 17,
   "id": "d5cbe841",
   "metadata": {},
   "outputs": [
    {
     "name": "stdout",
     "output_type": "stream",
     "text": [
      "[1. 1. 1. 1.]\n",
      "[[1. 1.]\n",
      " [1. 1.]]\n"
     ]
    }
   ],
   "source": [
    "arr1D = np.ones((4))\n",
    "arr2D = arr1D.reshape(2,2)\n",
    "print(arr1D)\n",
    "print(arr2D)"
   ]
  },
  {
   "cell_type": "markdown",
   "id": "c606788e",
   "metadata": {},
   "source": [
    "### 18.Create the following pattern without hardcoding. Use only numpy functions and the below input array a.\n",
    "#### Input: a = np.array([1,2,3])\n",
    "#### Desired Output: array([1, 1, 1, 2, 2, 2, 3, 3, 3, 1, 2, 3, 1, 2, 3, 1, 2, 3])"
   ]
  },
  {
   "cell_type": "code",
   "execution_count": 18,
   "id": "8a5ac68f",
   "metadata": {},
   "outputs": [
    {
     "name": "stdout",
     "output_type": "stream",
     "text": [
      "[1 1 1 2 2 2 3 3 3 1 2 3 1 2 3 1 2 3]\n"
     ]
    }
   ],
   "source": [
    "a = np.array([1,2,3])\n",
    "pattern = np.append(np.repeat(a,3),np.tile(a,3))\n",
    "print(pattern)"
   ]
  },
  {
   "cell_type": "markdown",
   "id": "3bd2a753",
   "metadata": {},
   "source": [
    "### 19.Write a program to show how Numpy taking less memory compared to Python List?"
   ]
  },
  {
   "cell_type": "code",
   "execution_count": 19,
   "id": "df75c93a",
   "metadata": {},
   "outputs": [
    {
     "name": "stdout",
     "output_type": "stream",
     "text": [
      "Memory used by list items: 128\n",
      "Memory used by array items: 36\n",
      "Thus, Numpy array consumes less memory.\n"
     ]
    }
   ],
   "source": [
    "import sys\n",
    "l = [11,22,33,44,55,66,77,88,99]\n",
    "a = np.array([11,22,33,44,55,66,77,88,99])\n",
    "print('Memory used by list items:',sys.getsizeof(l))\n",
    "print('Memory used by array items:',a.itemsize*a.size)\n",
    "print('Thus, Numpy array consumes less memory.')"
   ]
  },
  {
   "cell_type": "markdown",
   "id": "a0d03518",
   "metadata": {},
   "source": [
    "### 20.Write a program to show how Numpy taking less time compared to Python List?"
   ]
  },
  {
   "cell_type": "code",
   "execution_count": 20,
   "id": "1ae3d66f",
   "metadata": {},
   "outputs": [
    {
     "name": "stdout",
     "output_type": "stream",
     "text": [
      "Time consumed by list: 0:00:00.300197\n",
      "Time consumed by array: 0:00:00.002992\n"
     ]
    }
   ],
   "source": [
    "import datetime\n",
    "\n",
    "l1 = range(1000000)\n",
    "l2 = range(1000000)\n",
    "\n",
    "a1 = np.arange(1000000)\n",
    "a2 = np.arange(1000000)\n",
    "\n",
    "tic = datetime.datetime.now() \n",
    "for i in range(1000000):\n",
    "    list_product = l1[i]*l2[i]\n",
    "toc = datetime.datetime.now()  \n",
    "print('Time consumed by list:',toc-tic)\n",
    "\n",
    "tic = datetime.datetime.now() \n",
    "array_product = a1*a2\n",
    "toc = datetime.datetime.now()  \n",
    "\n",
    "print('Time consumed by array:',toc-tic)"
   ]
  }
 ],
 "metadata": {
  "kernelspec": {
   "display_name": "Python 3",
   "language": "python",
   "name": "python3"
  },
  "language_info": {
   "codemirror_mode": {
    "name": "ipython",
    "version": 3
   },
   "file_extension": ".py",
   "mimetype": "text/x-python",
   "name": "python",
   "nbconvert_exporter": "python",
   "pygments_lexer": "ipython3",
   "version": "3.8.8"
  }
 },
 "nbformat": 4,
 "nbformat_minor": 5
}
